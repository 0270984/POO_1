{
  "nbformat": 4,
  "nbformat_minor": 0,
  "metadata": {
    "colab": {
      "provenance": []
    },
    "kernelspec": {
      "name": "python3",
      "display_name": "Python 3"
    },
    "language_info": {
      "name": "python"
    }
  },
  "cells": [
    {
      "cell_type": "code",
      "execution_count": null,
      "metadata": {
        "id": "fKEBC5ilQ_EC"
      },
      "outputs": [],
      "source": []
    },
    {
      "cell_type": "markdown",
      "source": [
        "# Clases e instancias\n",
        "\n",
        "Una definición en Python es una función que se puede usar de manera permanente y global en un mismo notebook"
      ],
      "metadata": {
        "id": "Vk3Ezz3sRrQ_"
      }
    },
    {
      "cell_type": "code",
      "source": [
        "def saludo():\n",
        "  print(\"Hola, ¿Cómo están?\")\n"
      ],
      "metadata": {
        "id": "pQD75TdbSBvp"
      },
      "execution_count": null,
      "outputs": []
    },
    {
      "cell_type": "code",
      "source": [
        "saludo()"
      ],
      "metadata": {
        "colab": {
          "base_uri": "https://localhost:8080/"
        },
        "id": "Bb5O_CeHSgbd",
        "outputId": "638018a5-916a-4bef-d348-223e310c1057"
      },
      "execution_count": null,
      "outputs": [
        {
          "output_type": "stream",
          "name": "stdout",
          "text": [
            "Hola, ¿Cómo están?\n"
          ]
        }
      ]
    },
    {
      "cell_type": "code",
      "source": [
        "def suma(a, b, c):\n",
        "  z = 3*a - b + c**(0.5)\n",
        "  return z"
      ],
      "metadata": {
        "id": "DfNDo2OHS1PN"
      },
      "execution_count": null,
      "outputs": []
    },
    {
      "cell_type": "code",
      "source": [
        "suma(1, 2, 3)"
      ],
      "metadata": {
        "colab": {
          "base_uri": "https://localhost:8080/"
        },
        "id": "jfSWfYr3URy0",
        "outputId": "650e8535-7112-48a6-c874-0057e76aa361"
      },
      "execution_count": null,
      "outputs": [
        {
          "output_type": "execute_result",
          "data": {
            "text/plain": [
              "2.732050807568877"
            ]
          },
          "metadata": {},
          "execution_count": 8
        }
      ]
    },
    {
      "cell_type": "code",
      "source": [
        "suma(1, 2, -1)"
      ],
      "metadata": {
        "colab": {
          "base_uri": "https://localhost:8080/"
        },
        "id": "YaHukmF7UWYH",
        "outputId": "4d22b23c-1526-4859-bfda-49cab19df45c"
      },
      "execution_count": null,
      "outputs": [
        {
          "output_type": "execute_result",
          "data": {
            "text/plain": [
              "(1+1j)"
            ]
          },
          "metadata": {},
          "execution_count": 9
        }
      ]
    },
    {
      "cell_type": "code",
      "source": [
        "type(suma(1, 2, -1))"
      ],
      "metadata": {
        "colab": {
          "base_uri": "https://localhost:8080/"
        },
        "id": "ageok1oIUbYz",
        "outputId": "dd1ab4fa-4848-4ddd-e13b-2040edfce092"
      },
      "execution_count": null,
      "outputs": [
        {
          "output_type": "execute_result",
          "data": {
            "text/plain": [
              "complex"
            ]
          },
          "metadata": {},
          "execution_count": 10
        }
      ]
    },
    {
      "cell_type": "code",
      "source": [
        "def sumar_complejos(z,w):\n",
        "  return z + w"
      ],
      "metadata": {
        "id": "d4QliGTVUkJ8"
      },
      "execution_count": null,
      "outputs": []
    },
    {
      "cell_type": "code",
      "source": [
        "sumar_complejos(1+2j, 3+2j)"
      ],
      "metadata": {
        "colab": {
          "base_uri": "https://localhost:8080/"
        },
        "id": "QasQY0WaVx-w",
        "outputId": "5fa8a6a6-d7d1-4404-bb43-f7c418d66057"
      },
      "execution_count": null,
      "outputs": [
        {
          "output_type": "execute_result",
          "data": {
            "text/plain": [
              "(4+4j)"
            ]
          },
          "metadata": {},
          "execution_count": 13
        }
      ]
    },
    {
      "cell_type": "markdown",
      "source": [
        "## Clases\n"
      ],
      "metadata": {
        "id": "chHI_NTBWd24"
      }
    },
    {
      "cell_type": "code",
      "source": [
        "class Persona:  #Es una clase que está vacía\n",
        "  pass"
      ],
      "metadata": {
        "id": "IJ7LKTxRW0fJ"
      },
      "execution_count": null,
      "outputs": []
    },
    {
      "cell_type": "code",
      "source": [
        "Persona ()"
      ],
      "metadata": {
        "colab": {
          "base_uri": "https://localhost:8080/"
        },
        "id": "YSa2AcbpXC2e",
        "outputId": "4315c0c2-d4a3-436d-df96-d713fe06aa72"
      },
      "execution_count": null,
      "outputs": [
        {
          "output_type": "execute_result",
          "data": {
            "text/plain": [
              "<__main__.Persona at 0x7dd1bb581b40>"
            ]
          },
          "metadata": {},
          "execution_count": 18
        }
      ]
    },
    {
      "cell_type": "code",
      "source": [
        "class Persona:\n",
        "  def __init__(self, nombre, edad, sexo):\n",
        "    self.nombre = nombre\n",
        "    self.edad = edad\n",
        "    self.sexo = sexo\n",
        "\n",
        "  def saludar(self):\n",
        "    print(\"Hola, soy\" + self.nombre)\n",
        "\n",
        "  def cumplir_años(self):\n",
        "    self.edad += 1\n",
        "    print(f\"Feliz cumpleaños, {self.nombre}! Cumples {self.edad} de edad y eres {self.sexo}\")"
      ],
      "metadata": {
        "id": "5sy4gBE0XWy0"
      },
      "execution_count": null,
      "outputs": []
    },
    {
      "cell_type": "code",
      "source": [
        "julian = Persona(\"Julian\", 24, \"M\")\n"
      ],
      "metadata": {
        "id": "4wN8xuKgafzx"
      },
      "execution_count": null,
      "outputs": []
    },
    {
      "cell_type": "code",
      "source": [
        "julian.nombre"
      ],
      "metadata": {
        "colab": {
          "base_uri": "https://localhost:8080/",
          "height": 35
        },
        "id": "yTDzWLAlbQfs",
        "outputId": "21dc042a-5688-46ba-fb2c-fcec0fcc1e52"
      },
      "execution_count": null,
      "outputs": [
        {
          "output_type": "execute_result",
          "data": {
            "text/plain": [
              "'Julian'"
            ],
            "application/vnd.google.colaboratory.intrinsic+json": {
              "type": "string"
            }
          },
          "metadata": {},
          "execution_count": 21
        }
      ]
    },
    {
      "cell_type": "code",
      "source": [
        "julian.edad"
      ],
      "metadata": {
        "colab": {
          "base_uri": "https://localhost:8080/"
        },
        "id": "1hDHbLw3bUH1",
        "outputId": "d3bba2bd-31bf-47c1-b105-d68f434ef852"
      },
      "execution_count": null,
      "outputs": [
        {
          "output_type": "execute_result",
          "data": {
            "text/plain": [
              "24"
            ]
          },
          "metadata": {},
          "execution_count": 22
        }
      ]
    },
    {
      "cell_type": "code",
      "source": [
        "julian.sexo"
      ],
      "metadata": {
        "colab": {
          "base_uri": "https://localhost:8080/",
          "height": 35
        },
        "id": "ibVRGH4dbWM2",
        "outputId": "dd6231d6-0646-40f7-84da-7179a3357f75"
      },
      "execution_count": null,
      "outputs": [
        {
          "output_type": "execute_result",
          "data": {
            "text/plain": [
              "'M'"
            ],
            "application/vnd.google.colaboratory.intrinsic+json": {
              "type": "string"
            }
          },
          "metadata": {},
          "execution_count": 23
        }
      ]
    },
    {
      "cell_type": "code",
      "source": [
        "julian.saludar()\n"
      ],
      "metadata": {
        "colab": {
          "base_uri": "https://localhost:8080/"
        },
        "id": "XJHFceaNbcca",
        "outputId": "85e55e8a-734e-4909-9fa4-ed172a739e91"
      },
      "execution_count": null,
      "outputs": [
        {
          "output_type": "stream",
          "name": "stdout",
          "text": [
            "Hola, soyJulian\n"
          ]
        }
      ]
    },
    {
      "cell_type": "code",
      "source": [
        "julian.cumplir_años()"
      ],
      "metadata": {
        "colab": {
          "base_uri": "https://localhost:8080/"
        },
        "id": "r5BfnZgKcBJe",
        "outputId": "8572579c-8386-4008-ee06-96c6e004faf3"
      },
      "execution_count": null,
      "outputs": [
        {
          "output_type": "stream",
          "name": "stdout",
          "text": [
            "Feliz cumpleaños, Julian! Cumples 25 de edad y eres M\n"
          ]
        }
      ]
    }
  ]
}