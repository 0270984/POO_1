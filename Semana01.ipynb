{
  "nbformat": 4,
  "nbformat_minor": 0,
  "metadata": {
    "colab": {
      "provenance": []
    },
    "kernelspec": {
      "name": "python3",
      "display_name": "Python 3"
    },
    "language_info": {
      "name": "python"
    }
  },
  "cells": [
    {
      "cell_type": "markdown",
      "source": [
        "# Introducción a objetos.\n",
        "\n",
        "Los primeros objetos que veremos son:\n",
        "\n",
        "1.   Números (int, float), strings (\"Hola\").\n",
        "2.   Listas.\n",
        "3.   Variables.\n",
        "\n",
        "\n",
        "\n",
        "\n",
        "\n",
        "\n",
        "\n",
        "\n",
        "\n",
        "\n",
        "Referencia: [Python](https://www.geeksforgeeks.org/python-oops-concepts/\n",
        ")\n",
        "\n",
        "Hay funciones que están creadas dentro de Python.\n"
      ],
      "metadata": {
        "id": "wV6oPm3qU2HA"
      }
    },
    {
      "cell_type": "markdown",
      "source": [
        "Una ecuación:\n",
        "\n",
        "$$ax^2+bx+c=0$$\n",
        "\n",
        "LaTex:\n",
        "\n",
        "$$e^{i\\pi}+1=0.$$\n"
      ],
      "metadata": {
        "id": "1c0U7Y2EZK4b"
      }
    },
    {
      "cell_type": "code",
      "source": [
        "5 // 2 # División al piso\n"
      ],
      "metadata": {
        "colab": {
          "base_uri": "https://localhost:8080/"
        },
        "id": "qATISzzRiyXH",
        "outputId": "cd70b139-efa9-4cf5-973b-329aedb29817"
      },
      "execution_count": 1,
      "outputs": [
        {
          "output_type": "execute_result",
          "data": {
            "text/plain": [
              "2"
            ]
          },
          "metadata": {},
          "execution_count": 1
        }
      ]
    },
    {
      "cell_type": "code",
      "source": [
        "print (\"Hola, mundo\") # Funciona para escribir en la consola\n",
        "\n",
        "nombre = \"Bernardo\"\n",
        "\n",
        "print (nombre)\n",
        "\n"
      ],
      "metadata": {
        "colab": {
          "base_uri": "https://localhost:8080/"
        },
        "id": "AZGG4uwTjy2W",
        "outputId": "9f546a85-f4cb-40ff-a186-683147c5d45a"
      },
      "execution_count": 2,
      "outputs": [
        {
          "output_type": "stream",
          "name": "stdout",
          "text": [
            "Hola, mundo\n",
            "Bernardo\n"
          ]
        }
      ]
    },
    {
      "cell_type": "markdown",
      "source": [
        "Función type dice\n",
        "¿Qué tipo de objeto está escrito?\n"
      ],
      "metadata": {
        "id": "EDVoFYNHlink"
      }
    },
    {
      "cell_type": "code",
      "source": [
        "x = 5\n",
        "y = 2"
      ],
      "metadata": {
        "id": "cf6RvuRRlp7K"
      },
      "execution_count": 3,
      "outputs": []
    },
    {
      "cell_type": "code",
      "source": [
        "type (x/y) # Float se refiere a número decimal (Estamos haciendo una división)"
      ],
      "metadata": {
        "colab": {
          "base_uri": "https://localhost:8080/"
        },
        "id": "GY8REgwBl1HE",
        "outputId": "10723134-0a64-4606-8289-1c1335a46ecb"
      },
      "execution_count": 4,
      "outputs": [
        {
          "output_type": "execute_result",
          "data": {
            "text/plain": [
              "float"
            ]
          },
          "metadata": {},
          "execution_count": 4
        }
      ]
    },
    {
      "cell_type": "code",
      "source": [
        "type (x) # Int se refiere a que da un número entero (Estamos haciendo una división)"
      ],
      "metadata": {
        "colab": {
          "base_uri": "https://localhost:8080/"
        },
        "id": "nB_KgoZlmFnD",
        "outputId": "afd123c0-1fb2-4e94-8e42-cfee0241b569"
      },
      "execution_count": 5,
      "outputs": [
        {
          "output_type": "execute_result",
          "data": {
            "text/plain": [
              "int"
            ]
          },
          "metadata": {},
          "execution_count": 5
        }
      ]
    },
    {
      "cell_type": "code",
      "source": [
        "type (nombre) # Str se refiere a una cadena de texto"
      ],
      "metadata": {
        "colab": {
          "base_uri": "https://localhost:8080/"
        },
        "id": "THh3gmjGmNWA",
        "outputId": "54a2f9f6-2e6a-4c67-cd44-389f32395be1"
      },
      "execution_count": 6,
      "outputs": [
        {
          "output_type": "execute_result",
          "data": {
            "text/plain": [
              "str"
            ]
          },
          "metadata": {},
          "execution_count": 6
        }
      ]
    },
    {
      "cell_type": "code",
      "source": [
        "print (type (x/y)) # Print funciona para que ponga todos los type y no solo el último\n",
        "\n",
        "print (type (x))\n",
        "\n",
        "print (type (nombre))\n",
        "\n"
      ],
      "metadata": {
        "colab": {
          "base_uri": "https://localhost:8080/"
        },
        "id": "boSnrENQmqe0",
        "outputId": "070cca55-57dc-451d-f418-90626e2852cf"
      },
      "execution_count": 7,
      "outputs": [
        {
          "output_type": "stream",
          "name": "stdout",
          "text": [
            "<class 'float'>\n",
            "<class 'int'>\n",
            "<class 'str'>\n"
          ]
        }
      ]
    },
    {
      "cell_type": "markdown",
      "source": [
        "## Listas\n",
        "\n",
        "Las listas son objetos que se escriben con []\n",
        "\n",
        "\n"
      ],
      "metadata": {
        "id": "i18_sm1IFMs1"
      }
    },
    {
      "cell_type": "code",
      "source": [
        "L = []\n",
        "\n",
        "type (L) # Nos dice qué tipo de objeto es\n"
      ],
      "metadata": {
        "colab": {
          "base_uri": "https://localhost:8080/"
        },
        "id": "J4R29xVqGFlI",
        "outputId": "0a8637ba-a489-4531-d59c-015f1bf83d74"
      },
      "execution_count": 8,
      "outputs": [
        {
          "output_type": "execute_result",
          "data": {
            "text/plain": [
              "list"
            ]
          },
          "metadata": {},
          "execution_count": 8
        }
      ]
    },
    {
      "cell_type": "code",
      "source": [
        "# La función range() (es un generador de etiquetas)\n",
        "\n",
        "range(10)"
      ],
      "metadata": {
        "colab": {
          "base_uri": "https://localhost:8080/"
        },
        "id": "W1x7EbUkGkqu",
        "outputId": "f6ecc637-de30-47c0-ca38-3405de84fce9"
      },
      "execution_count": 9,
      "outputs": [
        {
          "output_type": "execute_result",
          "data": {
            "text/plain": [
              "range(0, 10)"
            ]
          },
          "metadata": {},
          "execution_count": 9
        }
      ]
    },
    {
      "cell_type": "code",
      "source": [
        "for i in range(10): # estamos iterando i en un rango del 0 al 9\n",
        "  print (i)"
      ],
      "metadata": {
        "colab": {
          "base_uri": "https://localhost:8080/"
        },
        "id": "xZwP0-k6HOG3",
        "outputId": "a7b0fbb8-a724-48bd-da62-7f7ec5effaef"
      },
      "execution_count": 10,
      "outputs": [
        {
          "output_type": "stream",
          "name": "stdout",
          "text": [
            "0\n",
            "1\n",
            "2\n",
            "3\n",
            "4\n",
            "5\n",
            "6\n",
            "7\n",
            "8\n",
            "9\n"
          ]
        }
      ]
    },
    {
      "cell_type": "code",
      "source": [
        "for i in range(10):\n",
        "  L.append(i) # Agrega elementos a la lista\n",
        "print(L)"
      ],
      "metadata": {
        "colab": {
          "base_uri": "https://localhost:8080/"
        },
        "id": "nJjZY-vPHq8y",
        "outputId": "cb492ab2-771c-4dcf-9ada-9ca4acfe9d67"
      },
      "execution_count": 11,
      "outputs": [
        {
          "output_type": "stream",
          "name": "stdout",
          "text": [
            "[0, 1, 2, 3, 4, 5, 6, 7, 8, 9]\n"
          ]
        }
      ]
    },
    {
      "cell_type": "markdown",
      "source": [
        "## Accesos de una lista\n"
      ],
      "metadata": {
        "id": "3RSUn2W5JtEZ"
      }
    },
    {
      "cell_type": "code",
      "source": [
        "L[0:4] # Se define el rango con : (el 0 no es necesario, se puede omitir)"
      ],
      "metadata": {
        "colab": {
          "base_uri": "https://localhost:8080/"
        },
        "id": "kE8w_eazJ28t",
        "outputId": "14d5d360-3a50-4eca-d63c-dd3a20cd281f"
      },
      "execution_count": 12,
      "outputs": [
        {
          "output_type": "execute_result",
          "data": {
            "text/plain": [
              "[0, 1, 2, 3]"
            ]
          },
          "metadata": {},
          "execution_count": 12
        }
      ]
    },
    {
      "cell_type": "code",
      "source": [
        "L[2:8]"
      ],
      "metadata": {
        "colab": {
          "base_uri": "https://localhost:8080/"
        },
        "id": "g67kZPk9Mkb1",
        "outputId": "30b92275-f5d9-4bb9-fb60-617cf06ce167"
      },
      "execution_count": 13,
      "outputs": [
        {
          "output_type": "execute_result",
          "data": {
            "text/plain": [
              "[2, 3, 4, 5, 6, 7]"
            ]
          },
          "metadata": {},
          "execution_count": 13
        }
      ]
    },
    {
      "cell_type": "markdown",
      "source": [
        "¿Cómo elegir a los pares?"
      ],
      "metadata": {
        "id": "FcwYcw9NM6is"
      }
    },
    {
      "cell_type": "code",
      "source": [
        "P = [] # Definir la lista\n",
        "for i in range(10):\n",
        "  if i % 2 == 0: # Iteramos los elementos de la la lista y ver si son dividibles entre 2\n",
        "    P.append(i) # Si se cumple, se agregan a lista P\n",
        "P\n",
        "\n"
      ],
      "metadata": {
        "colab": {
          "base_uri": "https://localhost:8080/"
        },
        "id": "h0CJSNhiNBlg",
        "outputId": "7bf880f5-00e5-42ca-d176-993c3fcf9b3c"
      },
      "execution_count": 14,
      "outputs": [
        {
          "output_type": "execute_result",
          "data": {
            "text/plain": [
              "[0, 2, 4, 6, 8]"
            ]
          },
          "metadata": {},
          "execution_count": 14
        }
      ]
    },
    {
      "cell_type": "code",
      "source": [
        "I = [ i for i in L if i%2==1] # Función lógica para crear una lista\n",
        "I"
      ],
      "metadata": {
        "colab": {
          "base_uri": "https://localhost:8080/"
        },
        "id": "HmnSB79POZEm",
        "outputId": "205a5024-0ed2-43d2-d64c-9a46b8338d61"
      },
      "execution_count": 15,
      "outputs": [
        {
          "output_type": "execute_result",
          "data": {
            "text/plain": [
              "[1, 3, 5, 7, 9]"
            ]
          },
          "metadata": {},
          "execution_count": 15
        }
      ]
    },
    {
      "cell_type": "code",
      "source": [
        "P + I # Pegar las listas"
      ],
      "metadata": {
        "colab": {
          "base_uri": "https://localhost:8080/"
        },
        "id": "PsfiObIDPrYA",
        "outputId": "fe11d74c-ee6e-4e58-a3dc-ad4b0de28306"
      },
      "execution_count": 16,
      "outputs": [
        {
          "output_type": "execute_result",
          "data": {
            "text/plain": [
              "[0, 2, 4, 6, 8, 1, 3, 5, 7, 9]"
            ]
          },
          "metadata": {},
          "execution_count": 16
        }
      ]
    },
    {
      "cell_type": "markdown",
      "source": [
        "## Conjuntos"
      ],
      "metadata": {
        "id": "4JKJpY7gQFe5"
      }
    },
    {
      "cell_type": "code",
      "source": [
        "sP = set(P) #Crear conjunto a partir de la lista P con set\n",
        "sI = set(I) #Crear conjunto a partiri de la lista I con set\n",
        "\n",
        "print(sP)\n",
        "print(sI)"
      ],
      "metadata": {
        "colab": {
          "base_uri": "https://localhost:8080/"
        },
        "id": "V5MDgGi-QIAz",
        "outputId": "64b99e2a-944d-47bd-e786-813cb5c8335e"
      },
      "execution_count": 18,
      "outputs": [
        {
          "output_type": "stream",
          "name": "stdout",
          "text": [
            "{0, 2, 4, 6, 8}\n",
            "{1, 3, 5, 7, 9}\n"
          ]
        }
      ]
    },
    {
      "cell_type": "code",
      "source": [
        "sP.union(sI) #Unión de conjuntos entre sP y sI"
      ],
      "metadata": {
        "colab": {
          "base_uri": "https://localhost:8080/"
        },
        "id": "KhsNobcPQuWA",
        "outputId": "dfd7f17f-c323-48b9-9b46-e17a213e5b27"
      },
      "execution_count": 19,
      "outputs": [
        {
          "output_type": "execute_result",
          "data": {
            "text/plain": [
              "{0, 1, 2, 3, 4, 5, 6, 7, 8, 9}"
            ]
          },
          "metadata": {},
          "execution_count": 19
        }
      ]
    }
  ]
}