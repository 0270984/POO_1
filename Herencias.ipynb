{
  "nbformat": 4,
  "nbformat_minor": 0,
  "metadata": {
    "colab": {
      "provenance": []
    },
    "kernelspec": {
      "name": "python3",
      "display_name": "Python 3"
    },
    "language_info": {
      "name": "python"
    }
  },
  "cells": [
    {
      "cell_type": "markdown",
      "source": [
        "Vamos a crear una clase Figura\n"
      ],
      "metadata": {
        "id": "9CFzBlm8QRS4"
      }
    },
    {
      "cell_type": "code",
      "source": [
        "from math import pi, e"
      ],
      "metadata": {
        "id": "VWr7UdRoQ6Y2"
      },
      "execution_count": 1,
      "outputs": []
    },
    {
      "cell_type": "code",
      "source": [
        "pi\n"
      ],
      "metadata": {
        "colab": {
          "base_uri": "https://localhost:8080/"
        },
        "id": "hVi--9iNQ-D8",
        "outputId": "cd5b10a4-934e-48a7-9185-885f298bda7b"
      },
      "execution_count": 2,
      "outputs": [
        {
          "output_type": "execute_result",
          "data": {
            "text/plain": [
              "3.141592653589793"
            ]
          },
          "metadata": {},
          "execution_count": 2
        }
      ]
    },
    {
      "cell_type": "code",
      "source": [
        "# Clase madre\n",
        "class Figura:\n",
        "  def __init__(self):\n",
        "    pass\n",
        "\n",
        "  def area(self):\n",
        "    return 0\n",
        "\n",
        "  def perimetro(self):\n",
        "    return 0\n",
        "\n",
        "# Crear clase heredada\n",
        "class Cuadrado(Figura):\n",
        "  def __init__(self, lado):\n",
        "    self.lado = lado\n",
        "#Métodos sobrecargados\n",
        "  def area(self):\n",
        "    return self.lado**2\n",
        "\n",
        "  def perimetro(self):\n",
        "    return self.lado*4\n",
        "\n",
        "class Circulo(Figura):\n",
        "    def __init__(self, radio):\n",
        "      self.radio = radio\n",
        "# Estamos sobreescribiendo el método de la clase madre\n",
        "    def area(self):\n",
        "      return pi*self.radio**2\n",
        "\n",
        "    def perimetro(self):\n",
        "      return 2*pi*self.radio\n",
        "\n",
        "class Triangulo(Figura):\n",
        "  def __init__(self, base, altura):\n",
        "    self.base = base\n",
        "    self.altura = altura\n",
        "# Estamos sobreescribiendo el método de la clase madre\n",
        "  def area(self):\n",
        "    return (self.base*self.altura)/2\n",
        "\n",
        "  def perimetro(self):\n",
        "    return (self.base**2 + self.altura**2)**0.5\n",
        "\n",
        "\n"
      ],
      "metadata": {
        "id": "54L_9kmyRVI_"
      },
      "execution_count": 15,
      "outputs": []
    },
    {
      "cell_type": "code",
      "source": [
        "Triangulo(2,3).area(), Triangulo(2,3).perimetro()"
      ],
      "metadata": {
        "colab": {
          "base_uri": "https://localhost:8080/"
        },
        "id": "yDSBbMbCZaF3",
        "outputId": "4e96c55f-9d9f-4354-a10c-4795c47386d7"
      },
      "execution_count": 16,
      "outputs": [
        {
          "output_type": "execute_result",
          "data": {
            "text/plain": [
              "(3.0, 3.605551275463989)"
            ]
          },
          "metadata": {},
          "execution_count": 16
        }
      ]
    },
    {
      "cell_type": "code",
      "source": [
        "L = [Cuadrado(2), Circulo(3), Triangulo(2,3)]\n",
        "\n",
        "for f in L:\n",
        "  print(f\"El área del {f.__class__.__name__} es {f.area()}\")\n",
        ""
      ],
      "metadata": {
        "colab": {
          "base_uri": "https://localhost:8080/"
        },
        "id": "5iEdm86Wafo8",
        "outputId": "f945dc26-6d24-4224-e2d3-6fdd1c3154b7"
      },
      "execution_count": 17,
      "outputs": [
        {
          "output_type": "stream",
          "name": "stdout",
          "text": [
            "El área del Cuadrado es 4\n",
            "El área del Circulo es 28.274333882308138\n",
            "El área del Triangulo es 3.0\n"
          ]
        }
      ]
    },
    {
      "cell_type": "code",
      "source": [
        "for f in L:\n",
        "  print(f\"El perímetro del {f.__class__.__name__} es {f.perimetro()}\")"
      ],
      "metadata": {
        "colab": {
          "base_uri": "https://localhost:8080/"
        },
        "id": "Dz3QUXxcboNE",
        "outputId": "b90d3d18-dc0c-43f7-89a1-0abb638ee963"
      },
      "execution_count": 18,
      "outputs": [
        {
          "output_type": "stream",
          "name": "stdout",
          "text": [
            "El perímetro del Cuadrado es 8\n",
            "El perímetro del Circulo es 18.84955592153876\n",
            "El perímetro del Triangulo es 3.605551275463989\n"
          ]
        }
      ]
    }
  ]
}